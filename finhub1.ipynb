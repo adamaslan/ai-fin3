{
 "cells": [
  {
   "cell_type": "code",
   "execution_count": null,
   "id": "b0c74a72",
   "metadata": {},
   "outputs": [],
   "source": [
    "import finnhub\n",
    "import pandas as pd\n",
    "\n",
    "# Setup client\n",
    "finnhub_client = finnhub.Client(api_key=\"FINHUB_API_KEY\")\n",
    "\n",
    "# 1. Earnings calendar (future earnings dates)\n",
    "earnings_cal = finnhub_client.earnings_calendar(\n",
    "    _from=\"2025-09-01\", \n",
    "    to=\"2025-12-31\", \n",
    "    symbol=\"AAPL\",    # leave empty \"\" for all companies\n",
    "    international=False\n",
    ")\n",
    "print(\"Earnings calendar:\", pd.DataFrame(earnings_cal['earningsCalendar']))\n",
    "\n",
    "# 2. Company earnings surprises (history)\n",
    "earnings_history = finnhub_client.company_earnings('AAPL', limit=5)\n",
    "print(\"Earnings history:\", pd.DataFrame(earnings_history))\n",
    "\n",
    "# 3. EPS estimates\n",
    "eps_estimates = finnhub_client.company_eps_estimates('AAPL', freq='quarterly')\n",
    "print(\"EPS estimates:\", pd.DataFrame(eps_estimates['data']))\n",
    "\n",
    "# 4. Revenue estimates\n",
    "revenue_estimates = finnhub_client.company_revenue_estimates('AAPL', freq='quarterly')\n",
    "print(\"Revenue estimates:\", pd.DataFrame(revenue_estimates['data']))\n",
    "\n",
    "# 5. Transcripts list (earnings calls)\n",
    "transcripts = finnhub_client.transcripts_list('AAPL')\n",
    "print(\"Earnings call transcripts:\", pd.DataFrame(transcripts))\n"
   ]
  }
 ],
 "metadata": {
  "language_info": {
   "name": "python"
  }
 },
 "nbformat": 4,
 "nbformat_minor": 5
}
