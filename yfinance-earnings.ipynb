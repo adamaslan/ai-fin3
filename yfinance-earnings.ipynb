{
 "cells": [
  {
   "cell_type": "code",
   "execution_count": null,
   "id": "c2efcba9",
   "metadata": {},
   "outputs": [
    {
     "name": "stdout",
     "output_type": "stream",
     "text": [
      "Requirement already satisfied: yfinance in /opt/homebrew/Caskroom/miniforge/base/envs/fin-ai1/lib/python3.10/site-packages (0.2.65)\n",
      "Requirement already satisfied: pandas>=1.3.0 in /opt/homebrew/Caskroom/miniforge/base/envs/fin-ai1/lib/python3.10/site-packages (from yfinance) (2.2.3)\n",
      "Requirement already satisfied: numpy>=1.16.5 in /opt/homebrew/Caskroom/miniforge/base/envs/fin-ai1/lib/python3.10/site-packages (from yfinance) (2.1.3)\n",
      "Requirement already satisfied: requests>=2.31 in /opt/homebrew/Caskroom/miniforge/base/envs/fin-ai1/lib/python3.10/site-packages (from yfinance) (2.32.3)\n",
      "Requirement already satisfied: multitasking>=0.0.7 in /opt/homebrew/Caskroom/miniforge/base/envs/fin-ai1/lib/python3.10/site-packages (from yfinance) (0.0.12)\n",
      "Requirement already satisfied: platformdirs>=2.0.0 in /opt/homebrew/Caskroom/miniforge/base/envs/fin-ai1/lib/python3.10/site-packages (from yfinance) (4.3.8)\n",
      "Requirement already satisfied: pytz>=2022.5 in /opt/homebrew/Caskroom/miniforge/base/envs/fin-ai1/lib/python3.10/site-packages (from yfinance) (2025.2)\n",
      "Requirement already satisfied: frozendict>=2.3.4 in /opt/homebrew/Caskroom/miniforge/base/envs/fin-ai1/lib/python3.10/site-packages (from yfinance) (2.4.6)\n",
      "Requirement already satisfied: peewee>=3.16.2 in /opt/homebrew/Caskroom/miniforge/base/envs/fin-ai1/lib/python3.10/site-packages (from yfinance) (3.18.2)\n",
      "Requirement already satisfied: beautifulsoup4>=4.11.1 in /opt/homebrew/Caskroom/miniforge/base/envs/fin-ai1/lib/python3.10/site-packages (from yfinance) (4.13.5)\n",
      "Requirement already satisfied: curl_cffi>=0.7 in /opt/homebrew/Caskroom/miniforge/base/envs/fin-ai1/lib/python3.10/site-packages (from yfinance) (0.13.0)\n",
      "Requirement already satisfied: protobuf>=3.19.0 in /opt/homebrew/Caskroom/miniforge/base/envs/fin-ai1/lib/python3.10/site-packages (from yfinance) (5.29.4)\n",
      "Requirement already satisfied: websockets>=13.0 in /opt/homebrew/Caskroom/miniforge/base/envs/fin-ai1/lib/python3.10/site-packages (from yfinance) (15.0.1)\n",
      "Requirement already satisfied: soupsieve>1.2 in /opt/homebrew/Caskroom/miniforge/base/envs/fin-ai1/lib/python3.10/site-packages (from beautifulsoup4>=4.11.1->yfinance) (2.8)\n",
      "Requirement already satisfied: typing-extensions>=4.0.0 in /opt/homebrew/Caskroom/miniforge/base/envs/fin-ai1/lib/python3.10/site-packages (from beautifulsoup4>=4.11.1->yfinance) (4.13.2)\n",
      "Requirement already satisfied: cffi>=1.12.0 in /opt/homebrew/Caskroom/miniforge/base/envs/fin-ai1/lib/python3.10/site-packages (from curl_cffi>=0.7->yfinance) (1.17.1)\n",
      "Requirement already satisfied: certifi>=2024.2.2 in /opt/homebrew/Caskroom/miniforge/base/envs/fin-ai1/lib/python3.10/site-packages (from curl_cffi>=0.7->yfinance) (2025.4.26)\n",
      "Requirement already satisfied: pycparser in /opt/homebrew/Caskroom/miniforge/base/envs/fin-ai1/lib/python3.10/site-packages (from cffi>=1.12.0->curl_cffi>=0.7->yfinance) (2.22)\n",
      "Requirement already satisfied: python-dateutil>=2.8.2 in /opt/homebrew/Caskroom/miniforge/base/envs/fin-ai1/lib/python3.10/site-packages (from pandas>=1.3.0->yfinance) (2.9.0.post0)\n",
      "Requirement already satisfied: tzdata>=2022.7 in /opt/homebrew/Caskroom/miniforge/base/envs/fin-ai1/lib/python3.10/site-packages (from pandas>=1.3.0->yfinance) (2025.2)\n",
      "Requirement already satisfied: six>=1.5 in /opt/homebrew/Caskroom/miniforge/base/envs/fin-ai1/lib/python3.10/site-packages (from python-dateutil>=2.8.2->pandas>=1.3.0->yfinance) (1.17.0)\n",
      "Requirement already satisfied: charset-normalizer<4,>=2 in /opt/homebrew/Caskroom/miniforge/base/envs/fin-ai1/lib/python3.10/site-packages (from requests>=2.31->yfinance) (3.4.2)\n",
      "Requirement already satisfied: idna<4,>=2.5 in /opt/homebrew/Caskroom/miniforge/base/envs/fin-ai1/lib/python3.10/site-packages (from requests>=2.31->yfinance) (3.10)\n",
      "Requirement already satisfied: urllib3<3,>=1.21.1 in /opt/homebrew/Caskroom/miniforge/base/envs/fin-ai1/lib/python3.10/site-packages (from requests>=2.31->yfinance) (2.4.0)\n",
      "Next earnings date: 2025-02-27\n",
      "                           EPS Estimate  Reported EPS  Surprise(%) Event Type\n",
      "Earnings Date                                                                \n",
      "2025-05-01 16:30:00-04:00          1.63          1.65         1.41   Earnings\n",
      "2025-02-27 12:00:00-05:00           NaN           NaN          NaN    Meeting\n",
      "2025-01-30 16:31:00-05:00          2.35          2.40         2.15   Earnings\n",
      "2024-10-31 16:31:00-04:00          1.60          1.64         2.35   Earnings\n",
      "2024-08-01 16:30:00-04:00          1.35          1.40         3.99   Earnings\n",
      "2024-05-02 16:31:00-04:00          1.50          1.53         1.97   Earnings\n",
      "2024-02-01 16:00:00-05:00          2.10          2.18         3.90   Earnings\n",
      "2023-11-02 16:30:00-04:00          1.39          1.46         4.92   Earnings\n",
      "2023-08-03 16:30:00-04:00          1.19          1.26         5.49   Earnings\n",
      "2023-05-04 16:30:00-04:00          1.43          1.52         6.03   Earnings\n"
     ]
    }
   ],
   "source": [
    "# !pip install yfinance --upgrade\n",
    "\n",
    "import yfinance as yf\n",
    "\n",
    "# Pick a stock\n",
    "ticker = yf.Ticker(\"AAPL\")\n",
    "\n",
    "# Get upcoming and past earnings dates\n",
    "earnings_dates = ticker.get_earnings_dates(limit=10)\n",
    "\n",
    "future_earnings = earnings_dates[earnings_dates[\"Reported EPS\"].isna()]\n",
    "next_earnings = future_earnings.index[0]\n",
    "\n",
    "print(\"Next earnings date:\", next_earnings.date())\n",
    "\n",
    "print(earnings_dates)\n"
   ]
  },
  {
   "cell_type": "code",
   "execution_count": 4,
   "id": "6e98fb3f",
   "metadata": {},
   "outputs": [
    {
     "name": "stdout",
     "output_type": "stream",
     "text": [
      "Collecting yahoo_earnings_calendar\n",
      "  Downloading yahoo_earnings_calendar-0.6.0-py3-none-any.whl.metadata (3.3 kB)\n",
      "Requirement already satisfied: requests in /opt/homebrew/Caskroom/miniforge/base/envs/fin-ai1/lib/python3.10/site-packages (from yahoo_earnings_calendar) (2.32.3)\n",
      "Requirement already satisfied: charset-normalizer<4,>=2 in /opt/homebrew/Caskroom/miniforge/base/envs/fin-ai1/lib/python3.10/site-packages (from requests->yahoo_earnings_calendar) (3.4.2)\n",
      "Requirement already satisfied: idna<4,>=2.5 in /opt/homebrew/Caskroom/miniforge/base/envs/fin-ai1/lib/python3.10/site-packages (from requests->yahoo_earnings_calendar) (3.10)\n",
      "Requirement already satisfied: urllib3<3,>=1.21.1 in /opt/homebrew/Caskroom/miniforge/base/envs/fin-ai1/lib/python3.10/site-packages (from requests->yahoo_earnings_calendar) (2.4.0)\n",
      "Requirement already satisfied: certifi>=2017.4.17 in /opt/homebrew/Caskroom/miniforge/base/envs/fin-ai1/lib/python3.10/site-packages (from requests->yahoo_earnings_calendar) (2025.4.26)\n",
      "Downloading yahoo_earnings_calendar-0.6.0-py3-none-any.whl (7.9 kB)\n",
      "Installing collected packages: yahoo_earnings_calendar\n",
      "Successfully installed yahoo_earnings_calendar-0.6.0\n"
     ]
    },
    {
     "ename": "Exception",
     "evalue": "Invalid Symbol or Unavailable Earnings Date",
     "output_type": "error",
     "traceback": [
      "\u001b[0;31m---------------------------------------------------------------------------\u001b[0m",
      "\u001b[0;31mIndexError\u001b[0m                                Traceback (most recent call last)",
      "File \u001b[0;32m/opt/homebrew/Caskroom/miniforge/base/envs/fin-ai1/lib/python3.10/site-packages/yahoo_earnings_calendar/scraper.py:54\u001b[0m, in \u001b[0;36mYahooEarningsCalendar.get_next_earnings_date\u001b[0;34m(self, symbol)\u001b[0m\n\u001b[1;32m     53\u001b[0m \u001b[38;5;28;01mtry\u001b[39;00m:\n\u001b[0;32m---> 54\u001b[0m     page_data_dict \u001b[38;5;241m=\u001b[39m \u001b[38;5;28;43mself\u001b[39;49m\u001b[38;5;241;43m.\u001b[39;49m\u001b[43m_get_data_dict\u001b[49m\u001b[43m(\u001b[49m\u001b[43murl\u001b[49m\u001b[43m)\u001b[49m\n\u001b[1;32m     55\u001b[0m     \u001b[38;5;28;01mreturn\u001b[39;00m page_data_dict[\u001b[38;5;124m'\u001b[39m\u001b[38;5;124mcontext\u001b[39m\u001b[38;5;124m'\u001b[39m][\u001b[38;5;124m'\u001b[39m\u001b[38;5;124mdispatcher\u001b[39m\u001b[38;5;124m'\u001b[39m][\u001b[38;5;124m'\u001b[39m\u001b[38;5;124mstores\u001b[39m\u001b[38;5;124m'\u001b[39m][\u001b[38;5;124m'\u001b[39m\u001b[38;5;124mQuoteSummaryStore\u001b[39m\u001b[38;5;124m'\u001b[39m][\u001b[38;5;124m'\u001b[39m\u001b[38;5;124mcalendarEvents\u001b[39m\u001b[38;5;124m'\u001b[39m][\u001b[38;5;124m'\u001b[39m\u001b[38;5;124mearnings\u001b[39m\u001b[38;5;124m'\u001b[39m][\u001b[38;5;124m'\u001b[39m\u001b[38;5;124mearningsDate\u001b[39m\u001b[38;5;124m'\u001b[39m][\u001b[38;5;241m0\u001b[39m][\u001b[38;5;124m'\u001b[39m\u001b[38;5;124mraw\u001b[39m\u001b[38;5;124m'\u001b[39m]\n",
      "File \u001b[0;32m/opt/homebrew/Caskroom/miniforge/base/envs/fin-ai1/lib/python3.10/site-packages/yahoo_earnings_calendar/scraper.py:38\u001b[0m, in \u001b[0;36mYahooEarningsCalendar._get_data_dict\u001b[0;34m(self, url)\u001b[0m\n\u001b[1;32m     37\u001b[0m page_content \u001b[38;5;241m=\u001b[39m page\u001b[38;5;241m.\u001b[39mcontent\u001b[38;5;241m.\u001b[39mdecode(encoding\u001b[38;5;241m=\u001b[39m\u001b[38;5;124m'\u001b[39m\u001b[38;5;124mutf-8\u001b[39m\u001b[38;5;124m'\u001b[39m, errors\u001b[38;5;241m=\u001b[39m\u001b[38;5;124m'\u001b[39m\u001b[38;5;124mstrict\u001b[39m\u001b[38;5;124m'\u001b[39m)\n\u001b[0;32m---> 38\u001b[0m page_data_string \u001b[38;5;241m=\u001b[39m \u001b[43m[\u001b[49m\u001b[43mrow\u001b[49m\u001b[43m \u001b[49m\u001b[38;5;28;43;01mfor\u001b[39;49;00m\u001b[43m \u001b[49m\u001b[43mrow\u001b[49m\u001b[43m \u001b[49m\u001b[38;5;129;43;01min\u001b[39;49;00m\u001b[43m \u001b[49m\u001b[43mpage_content\u001b[49m\u001b[38;5;241;43m.\u001b[39;49m\u001b[43msplit\u001b[49m\u001b[43m(\u001b[49m\n\u001b[1;32m     39\u001b[0m \u001b[43m    \u001b[49m\u001b[38;5;124;43m'\u001b[39;49m\u001b[38;5;130;43;01m\\n\u001b[39;49;00m\u001b[38;5;124;43m'\u001b[39;49m\u001b[43m)\u001b[49m\u001b[43m \u001b[49m\u001b[38;5;28;43;01mif\u001b[39;49;00m\u001b[43m \u001b[49m\u001b[43mrow\u001b[49m\u001b[38;5;241;43m.\u001b[39;49m\u001b[43mstartswith\u001b[49m\u001b[43m(\u001b[49m\u001b[38;5;124;43m'\u001b[39;49m\u001b[38;5;124;43mroot.App.main = \u001b[39;49m\u001b[38;5;124;43m'\u001b[39;49m\u001b[43m)\u001b[49m\u001b[43m]\u001b[49m\u001b[43m[\u001b[49m\u001b[38;5;241;43m0\u001b[39;49m\u001b[43m]\u001b[49m[:\u001b[38;5;241m-\u001b[39m\u001b[38;5;241m1\u001b[39m]\n\u001b[1;32m     40\u001b[0m page_data_string \u001b[38;5;241m=\u001b[39m page_data_string\u001b[38;5;241m.\u001b[39msplit(\u001b[38;5;124m'\u001b[39m\u001b[38;5;124mroot.App.main = \u001b[39m\u001b[38;5;124m'\u001b[39m, \u001b[38;5;241m1\u001b[39m)[\u001b[38;5;241m1\u001b[39m]\n",
      "\u001b[0;31mIndexError\u001b[0m: list index out of range",
      "\nDuring handling of the above exception, another exception occurred:\n",
      "\u001b[0;31mException\u001b[0m                                 Traceback (most recent call last)",
      "Cell \u001b[0;32mIn[4], line 7\u001b[0m\n\u001b[1;32m      4\u001b[0m \u001b[38;5;28;01mfrom\u001b[39;00m\u001b[38;5;250m \u001b[39m\u001b[38;5;21;01myahoo_earnings_calendar\u001b[39;00m\u001b[38;5;250m \u001b[39m\u001b[38;5;28;01mimport\u001b[39;00m YahooEarningsCalendar\n\u001b[1;32m      6\u001b[0m yec \u001b[38;5;241m=\u001b[39m YahooEarningsCalendar()\n\u001b[0;32m----> 7\u001b[0m future_ts \u001b[38;5;241m=\u001b[39m \u001b[43myec\u001b[49m\u001b[38;5;241;43m.\u001b[39;49m\u001b[43mget_next_earnings_date\u001b[49m\u001b[43m(\u001b[49m\u001b[38;5;124;43m\"\u001b[39;49m\u001b[38;5;124;43mAAPL\u001b[39;49m\u001b[38;5;124;43m\"\u001b[39;49m\u001b[43m)\u001b[49m  \u001b[38;5;66;03m# returns timestamp\u001b[39;00m\n\u001b[1;32m      8\u001b[0m future_date \u001b[38;5;241m=\u001b[39m datetime\u001b[38;5;241m.\u001b[39mdatetime\u001b[38;5;241m.\u001b[39mfromtimestamp(future_ts)\n\u001b[1;32m      9\u001b[0m \u001b[38;5;28mprint\u001b[39m(\u001b[38;5;124m\"\u001b[39m\u001b[38;5;124mNext earnings:\u001b[39m\u001b[38;5;124m\"\u001b[39m, future_date)\n",
      "File \u001b[0;32m/opt/homebrew/Caskroom/miniforge/base/envs/fin-ai1/lib/python3.10/site-packages/yahoo_earnings_calendar/scraper.py:57\u001b[0m, in \u001b[0;36mYahooEarningsCalendar.get_next_earnings_date\u001b[0;34m(self, symbol)\u001b[0m\n\u001b[1;32m     55\u001b[0m     \u001b[38;5;28;01mreturn\u001b[39;00m page_data_dict[\u001b[38;5;124m'\u001b[39m\u001b[38;5;124mcontext\u001b[39m\u001b[38;5;124m'\u001b[39m][\u001b[38;5;124m'\u001b[39m\u001b[38;5;124mdispatcher\u001b[39m\u001b[38;5;124m'\u001b[39m][\u001b[38;5;124m'\u001b[39m\u001b[38;5;124mstores\u001b[39m\u001b[38;5;124m'\u001b[39m][\u001b[38;5;124m'\u001b[39m\u001b[38;5;124mQuoteSummaryStore\u001b[39m\u001b[38;5;124m'\u001b[39m][\u001b[38;5;124m'\u001b[39m\u001b[38;5;124mcalendarEvents\u001b[39m\u001b[38;5;124m'\u001b[39m][\u001b[38;5;124m'\u001b[39m\u001b[38;5;124mearnings\u001b[39m\u001b[38;5;124m'\u001b[39m][\u001b[38;5;124m'\u001b[39m\u001b[38;5;124mearningsDate\u001b[39m\u001b[38;5;124m'\u001b[39m][\u001b[38;5;241m0\u001b[39m][\u001b[38;5;124m'\u001b[39m\u001b[38;5;124mraw\u001b[39m\u001b[38;5;124m'\u001b[39m]\n\u001b[1;32m     56\u001b[0m \u001b[38;5;28;01mexcept\u001b[39;00m:\n\u001b[0;32m---> 57\u001b[0m     \u001b[38;5;28;01mraise\u001b[39;00m \u001b[38;5;167;01mException\u001b[39;00m(\u001b[38;5;124m'\u001b[39m\u001b[38;5;124mInvalid Symbol or Unavailable Earnings Date\u001b[39m\u001b[38;5;124m'\u001b[39m)\n",
      "\u001b[0;31mException\u001b[0m: Invalid Symbol or Unavailable Earnings Date"
     ]
    }
   ],
   "source": [
    "!pip install yahoo_earnings_calendar\n",
    "\n",
    "import datetime\n",
    "from yahoo_earnings_calendar import YahooEarningsCalendar\n",
    "\n",
    "yec = YahooEarningsCalendar()\n",
    "future_ts = yec.get_next_earnings_date(\"AAPL\")  # returns timestamp\n",
    "future_date = datetime.datetime.fromtimestamp(future_ts)\n",
    "print(\"Next earnings:\", future_date)"
   ]
  }
 ],
 "metadata": {
  "kernelspec": {
   "display_name": "fin-ai1",
   "language": "python",
   "name": "python3"
  },
  "language_info": {
   "codemirror_mode": {
    "name": "ipython",
    "version": 3
   },
   "file_extension": ".py",
   "mimetype": "text/x-python",
   "name": "python",
   "nbconvert_exporter": "python",
   "pygments_lexer": "ipython3",
   "version": "3.10.17"
  }
 },
 "nbformat": 4,
 "nbformat_minor": 5
}
