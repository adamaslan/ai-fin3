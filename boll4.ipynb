{
 "cells": [
  {
   "cell_type": "code",
   "execution_count": 1,
   "metadata": {},
   "outputs": [
    {
     "name": "stdout",
     "output_type": "stream",
     "text": [
      "Using device: cpu\n"
     ]
    }
   ],
   "source": [
    "# Cell 1: Imports and Setup\n",
    "import requests\n",
    "import json\n",
    "from dotenv import load_dotenv\n",
    "import os\n",
    "import pandas as pd\n",
    "from datetime import date, datetime, timedelta\n",
    "import numpy as np\n",
    "import matplotlib.pyplot as plt\n",
    "from sklearn.preprocessing import MinMaxScaler\n",
    "from sklearn.model_selection import train_test_split\n",
    "import seaborn as sns\n",
    "import torch\n",
    "import torch.nn as nn\n",
    "import torch.optim as optim\n",
    "from torch.utils.data import DataLoader, TensorDataset\n",
    "\n",
    "# Load environment variables and setup device\n",
    "load_dotenv()\n",
    "ALPHA_VANTAGE_API_KEY = os.getenv('ALPHA_VANTAGE_API_KEY')\n",
    "device = torch.device('cuda' if torch.cuda.is_available() else 'cpu')\n",
    "print(f\"Using device: {device}\")"
   ]
  },
  {
   "cell_type": "code",
   "execution_count": 2,
   "metadata": {},
   "outputs": [],
   "source": [
    "# Cell 2: Autoencoder Model and Training Functions\n",
    "class BollingerAutoencoder(nn.Module):\n",
    "    def __init__(self, input_dim, encoding_dim_factor=0.5):\n",
    "        super().__init__()\n",
    "        hidden_dim = int(input_dim * 0.75)\n",
    "        bottleneck_dim = int(input_dim * encoding_dim_factor)\n",
    "        self.encoder = nn.Sequential(\n",
    "            nn.Linear(input_dim, hidden_dim),\n",
    "            nn.ReLU(),\n",
    "            nn.Linear(hidden_dim, bottleneck_dim),\n",
    "            nn.ReLU()\n",
    "        )\n",
    "        self.decoder = nn.Sequential(\n",
    "            nn.Linear(bottleneck_dim, hidden_dim),\n",
    "            nn.ReLU(),\n",
    "            nn.Linear(hidden_dim, input_dim),\n",
    "            nn.Sigmoid()\n",
    "        )\n",
    "    \n",
    "    def forward(self, x):\n",
    "        return self.decoder(self.encoder(x))\n",
    "\n",
    "def create_sequences(data, sequence_length):\n",
    "    data_tensor = torch.FloatTensor(data.values)\n",
    "    sequences = []\n",
    "    for i in range(data_tensor.shape[1]):\n",
    "        feature_sequences = data_tensor[:, i].unfold(0, sequence_length, 1)\n",
    "        sequences.append(feature_sequences)\n",
    "    return torch.stack(sequences, dim=2).numpy()\n",
    "\n",
    "def train_autoencoder(model, train_data, test_data, epochs=100, batch_size=32):\n",
    "    train_tensor = torch.FloatTensor(train_data).to(device)\n",
    "    test_tensor = torch.FloatTensor(test_data).to(device)\n",
    "    train_loader = DataLoader(TensorDataset(train_tensor, train_tensor), \n",
    "                            batch_size=batch_size, shuffle=True)\n",
    "    \n",
    "    criterion = nn.MSELoss()\n",
    "    optimizer = optim.Adam(model.parameters(), lr=0.001)\n",
    "    \n",
    "    model.train()\n",
    "    for epoch in range(epochs):\n",
    "        total_loss = 0\n",
    "        for batch_x, _ in train_loader:\n",
    "            outputs = model(batch_x)\n",
    "            loss = criterion(outputs, batch_x)\n",
    "            optimizer.zero_grad()\n",
    "            loss.backward()\n",
    "            optimizer.step()\n",
    "            total_loss += loss.item()\n",
    "        if (epoch + 1) % 10 == 0:\n",
    "            print(f'Epoch [{epoch+1}/{epochs}], Loss: {total_loss/len(train_loader):.6f}')\n",
    "    \n",
    "    model.eval()\n",
    "    with torch.no_grad():\n",
    "        test_loss = criterion(model(test_tensor), test_tensor)\n",
    "    print(f'Test Loss: {test_loss.item():.6f}')\n",
    "    return model"
   ]
  },
  {
   "cell_type": "code",
   "execution_count": null,
   "metadata": {},
   "outputs": [],
   "source": [
    "# Cell 3: Data Processing and Visualization Functions\n",
    "def fetch_and_process_bbands(params, interval_name):\n",
    "    response = requests.get(\"https://www.alphavantage.co/query\", params=params)\n",
    "    df = pd.DataFrame.from_dict(response.json()['values']).astype(float)\n",
    "    df.index = pd.to_datetime(df.index)\n",
    "    return df.sort_index()\n",
    "\n",
    "def visualize_bollinger_bands(df, interval_name):\n",
    "    plt.figure(figsize=(12, 8))\n",
    "    plt.plot(df['Real Middle Band'], label='Middle Band')\n",
    "    plt.plot(df['Real Upper Band'], label='Upper Band')\n",
    "    plt.plot(df['Real Lower Band'], label='Lower Band')\n",
    "    plt.title(f'Bollinger Bands ({interval_name})')\n",
    "    plt.legend()\n",
    "    plt.grid(True)\n",
    "    plt.tight_layout()\n",
    "    plt.savefig(f'{SYMBOL}_bbands_{interval_name}.png')\n",
    "    plt.show()"
   ]
  },
  {
   "cell_type": "code",
   "execution_count": 5,
   "metadata": {},
   "outputs": [],
   "source": [
    "# Cell 4: Anomaly Detection Functions\n",
    "def detect_anomalies(df, interval_name, encoding_dim_factor=0.5, threshold_factor=3.0):\n",
    "    features = df[['Real Upper Band', 'Real Middle Band', 'Real Lower Band']]\n",
    "    scaler = MinMaxScaler()\n",
    "    data_scaled = scaler.fit_transform(features)\n",
    "    \n",
    "    train_data, test_data = train_test_split(data_scaled, test_size=0.2, random_state=42)\n",
    "    model = BollingerAutoencoder(data_scaled.shape[1], encoding_dim_factor).to(device)\n",
    "    model = train_autoencoder(model, train_data, test_data)\n",
    "    \n",
    "    with torch.no_grad():\n",
    "        reconstructions = model(torch.FloatTensor(data_scaled).to(device)).cpu().numpy()\n",
    "    mse = np.mean((data_scaled - reconstructions) ** 2, axis=1)\n",
    "    threshold = np.mean(mse) + threshold_factor * np.std(mse)\n",
    "    \n",
    "    plt.figure(figsize=(12, 6))\n",
    "    plt.plot(mse)\n",
    "    plt.axhline(threshold, color='r', linestyle='--')\n",
    "    plt.title(f'Reconstruction Error ({interval_name})')\n",
    "    plt.show()\n",
    "    \n",
    "    return mse > threshold"
   ]
  },
  {
   "cell_type": "code",
   "execution_count": 6,
   "metadata": {},
   "outputs": [
    {
     "ename": "KeyError",
     "evalue": "'values'",
     "output_type": "error",
     "traceback": [
      "\u001b[0;31m---------------------------------------------------------------------------\u001b[0m",
      "\u001b[0;31mKeyError\u001b[0m                                  Traceback (most recent call last)",
      "Cell \u001b[0;32mIn[6], line 17\u001b[0m\n\u001b[1;32m     15\u001b[0m \u001b[38;5;66;03m# Fetch and analyze data\u001b[39;00m\n\u001b[1;32m     16\u001b[0m \u001b[38;5;28;01mfor\u001b[39;00m interval, params \u001b[38;5;129;01min\u001b[39;00m [(\u001b[38;5;124m\"\u001b[39m\u001b[38;5;124m5-minute\u001b[39m\u001b[38;5;124m\"\u001b[39m, params_5min), (\u001b[38;5;124m\"\u001b[39m\u001b[38;5;124m1-hour\u001b[39m\u001b[38;5;124m\"\u001b[39m, params_1hour)]:\n\u001b[0;32m---> 17\u001b[0m     df \u001b[38;5;241m=\u001b[39m \u001b[43mfetch_and_process_bbands\u001b[49m\u001b[43m(\u001b[49m\u001b[43mparams\u001b[49m\u001b[43m,\u001b[49m\u001b[43m \u001b[49m\u001b[43minterval\u001b[49m\u001b[43m)\u001b[49m\n\u001b[1;32m     18\u001b[0m     visualize_bollinger_bands(df, interval)\n\u001b[1;32m     19\u001b[0m     anomalies \u001b[38;5;241m=\u001b[39m detect_anomalies(df, interval)\n",
      "Cell \u001b[0;32mIn[4], line 4\u001b[0m, in \u001b[0;36mfetch_and_process_bbands\u001b[0;34m(params, interval_name)\u001b[0m\n\u001b[1;32m      2\u001b[0m \u001b[38;5;28;01mdef\u001b[39;00m\u001b[38;5;250m \u001b[39m\u001b[38;5;21mfetch_and_process_bbands\u001b[39m(params, interval_name):\n\u001b[1;32m      3\u001b[0m     response \u001b[38;5;241m=\u001b[39m requests\u001b[38;5;241m.\u001b[39mget(\u001b[38;5;124m\"\u001b[39m\u001b[38;5;124mhttps://www.alphavantage.co/query\u001b[39m\u001b[38;5;124m\"\u001b[39m, params\u001b[38;5;241m=\u001b[39mparams)\n\u001b[0;32m----> 4\u001b[0m     df \u001b[38;5;241m=\u001b[39m pd\u001b[38;5;241m.\u001b[39mDataFrame\u001b[38;5;241m.\u001b[39mfrom_dict(\u001b[43mresponse\u001b[49m\u001b[38;5;241;43m.\u001b[39;49m\u001b[43mjson\u001b[49m\u001b[43m(\u001b[49m\u001b[43m)\u001b[49m\u001b[43m[\u001b[49m\u001b[38;5;124;43m'\u001b[39;49m\u001b[38;5;124;43mvalues\u001b[39;49m\u001b[38;5;124;43m'\u001b[39;49m\u001b[43m]\u001b[49m)\u001b[38;5;241m.\u001b[39mastype(\u001b[38;5;28mfloat\u001b[39m)\n\u001b[1;32m      5\u001b[0m     df\u001b[38;5;241m.\u001b[39mindex \u001b[38;5;241m=\u001b[39m pd\u001b[38;5;241m.\u001b[39mto_datetime(df\u001b[38;5;241m.\u001b[39mindex)\n\u001b[1;32m      6\u001b[0m     \u001b[38;5;28;01mreturn\u001b[39;00m df\u001b[38;5;241m.\u001b[39msort_index()\n",
      "\u001b[0;31mKeyError\u001b[0m: 'values'"
     ]
    }
   ],
   "source": [
    "# Cell 5: Main Execution\n",
    "if __name__ == \"__main__\":\n",
    "    SYMBOL = 'AAPL'\n",
    "    params_5min = {\n",
    "        \"function\": \"BBANDS\",\n",
    "        \"symbol\": SYMBOL,\n",
    "        \"interval\": \"5min\",\n",
    "        \"time_period\": \"20\",\n",
    "        \"series_type\": \"close\",\n",
    "        \"apikey\": ALPHA_VANTAGE_API_KEY\n",
    "    }\n",
    "    \n",
    "    params_1hour = {**params_5min, \"interval\": \"60min\"}\n",
    "    \n",
    "    # Fetch and analyze data\n",
    "    for interval, params in [(\"5-minute\", params_5min), (\"1-hour\", params_1hour)]:\n",
    "        df = fetch_and_process_bbands(params, interval)\n",
    "        visualize_bollinger_bands(df, interval)\n",
    "        anomalies = detect_anomalies(df, interval)\n",
    "        print(f\"Detected {sum(anomalies)} anomalies in {interval} data\")"
   ]
  }
 ],
 "metadata": {
  "kernelspec": {
   "display_name": "fin-ai1",
   "language": "python",
   "name": "python3"
  },
  "language_info": {
   "codemirror_mode": {
    "name": "ipython",
    "version": 3
   },
   "file_extension": ".py",
   "mimetype": "text/x-python",
   "name": "python",
   "nbconvert_exporter": "python",
   "pygments_lexer": "ipython3",
   "version": "3.10.17"
  }
 },
 "nbformat": 4,
 "nbformat_minor": 2
}
